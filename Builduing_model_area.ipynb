{
 "cells": [
  {
   "cell_type": "code",
   "execution_count": 1,
   "metadata": {},
   "outputs": [],
   "source": [
    "# this notebook is used to create the building model area\n",
    "# Author: Younes IBNE-ETTALEB\n",
    "# we will create a Character recognition model to recognize the Tifinagh characters from the dataset\n",
    "# we will use the Keras library to create the model\n",
    "# we will use the Tensorflow library to train the model\n",
    "# we will use the OpenCV library to preprocess the images\n",
    "# we will use the Numpy library to manipulate the images\n",
    "# we will use the Matplotlib library to plot the images\n",
    "# we will use the Pandas library to manipulate the data\n",
    "\n",
    "# import the libraries\n",
    "import cv2\n",
    "import numpy as np\n",
    "import matplotlib.pyplot as plt\n",
    "import pandas as pd\n",
    "import keras\n",
    "from keras.models import Sequential\n",
    "from keras.layers import Dense, Conv2D, MaxPooling2D, Flatten, Dropout\n",
    "from keras.utils import to_categorical\n",
    "from keras.preprocessing.image import ImageDataGenerator\n",
    "from keras.callbacks import ModelCheckpoint\n",
    "from sklearn.model_selection import train_test_split\n",
    "from sklearn.metrics import confusion_matrix\n",
    "import itertools\n",
    "import os\n",
    "import glob"
   ]
  },
  {
   "cell_type": "code",
   "execution_count": 2,
   "metadata": {},
   "outputs": [
    {
     "name": "stdout",
     "output_type": "stream",
     "text": [
      "reading images from folder:  ya\n",
      "reading images from folder:  yab\n",
      "reading images from folder:  yach\n",
      "reading images from folder:  yad\n",
      "reading images from folder:  yadd\n",
      "reading images from folder:  yae\n",
      "reading images from folder:  yaf\n",
      "reading images from folder:  yag\n",
      "reading images from folder:  yagh\n",
      "reading images from folder:  yagw\n",
      "reading images from folder:  yah\n",
      "reading images from folder:  yahh\n",
      "reading images from folder:  yaj\n",
      "reading images from folder:  yak\n",
      "reading images from folder:  yakw\n",
      "reading images from folder:  yal\n",
      "reading images from folder:  yam\n",
      "reading images from folder:  yan\n",
      "reading images from folder:  yaq\n",
      "reading images from folder:  yar\n",
      "reading images from folder:  yarr\n",
      "reading images from folder:  yas\n",
      "reading images from folder:  yass\n",
      "reading images from folder:  yat\n",
      "reading images from folder:  yatt\n",
      "reading images from folder:  yaw\n",
      "reading images from folder:  yax\n",
      "reading images from folder:  yay\n",
      "reading images from folder:  yaz\n",
      "reading images from folder:  yazz\n",
      "reading images from folder:  yey\n",
      "reading images from folder:  yi\n",
      "reading images from folder:  yu\n",
      "number of images:  25740\n",
      "number of labels:  25740\n"
     ]
    }
   ],
   "source": [
    "# first we will read the dataset with labels\n",
    "dataset_dir = r\"dataset\"\n",
    "# the firsl folder is \"AMHCD_64\", it contains folders of images with labels\n",
    "# let's read the images and labels (the labels are the names of the folders)\n",
    "images_dir = os.path.join(dataset_dir, \"AMHCD_64\")\n",
    "images = []\n",
    "labels = []\n",
    "for folder in os.listdir(images_dir):\n",
    "    print(\"reading images from folder: \", folder)\n",
    "    for file in os.listdir(os.path.join(images_dir, folder)):\n",
    "        image = cv2.imread(os.path.join(images_dir, folder, file))\n",
    "        images.append(image)\n",
    "        labels.append(folder)\n",
    "\n",
    "#show the number of images and labels\n",
    "print(\"number of images: \", len(images))\n",
    "print(\"number of labels: \", len(labels))\n"
   ]
  },
  {
   "cell_type": "code",
   "execution_count": 3,
   "metadata": {},
   "outputs": [],
   "source": [
    "# convert the images to grayscale\n",
    "images = [cv2.cvtColor(image, cv2.COLOR_BGR2GRAY) for image in images]\n",
    "\n",
    "# resize the images to 64x64\n",
    "images = [cv2.resize(image, (64, 64)) for image in images]\n",
    "\n",
    "# convert the images to numpy arrays\n",
    "images = np.array(images)\n",
    "\n",
    "# our labels are categorical, we need to convert them to numerical values\n",
    "# we will use the LabelEncoder class from the sklearn library\n",
    "from sklearn.preprocessing import LabelEncoder\n",
    "label_encoder = LabelEncoder()\n",
    "labels = label_encoder.fit_transform(labels)\n",
    "\n",
    "# split the dataset into training and testing sets\n",
    "X_train, X_test, y_train, y_test = train_test_split(images, labels, test_size=0.2, random_state=0)"
   ]
  },
  {
   "cell_type": "code",
   "execution_count": 7,
   "metadata": {},
   "outputs": [
    {
     "data": {
      "image/png": "[encoded data removed]",
      "text/plain": [
       "<Figure size 576x576 with 1 Axes>"
      ]
     },
     "metadata": {
      "needs_background": "light"
     },
     "output_type": "display_data"
    }
   ],
   "source": [
    "# show the first image in the training set with its label\n",
    "plt.figure(figsize=(8, 8))\n",
    "plt.imshow(X_test[0], cmap=\"gray\")\n",
    "plt.title(label_encoder.inverse_transform([y_test[0]]))\n",
    "plt.show()"
   ]
  },
  {
   "cell_type": "code",
   "execution_count": 12,
   "metadata": {},
   "outputs": [
    {
     "name": "stdout",
     "output_type": "stream",
     "text": [
      "Model: \"sequential_3\"\n",
      "_________________________________________________________________\n",
      " Layer (type)                Output Shape              Param #   \n",
      "=================================================================\n",
      " conv2d_12 (Conv2D)          (None, 62, 62, 32)        320       \n",
      "                                                                 \n",
      " conv2d_13 (Conv2D)          (None, 60, 60, 64)        18496     \n",
      "                                                                 \n",
      " max_pooling2d_9 (MaxPooling  (None, 30, 30, 64)       0         \n",
      " 2D)                                                             \n",
      "                                                                 \n",
      " conv2d_14 (Conv2D)          (None, 28, 28, 128)       73856     \n",
      "                                                                 \n",
      " max_pooling2d_10 (MaxPoolin  (None, 14, 14, 128)      0         \n",
      " g2D)                                                            \n",
      "                                                                 \n",
      " conv2d_15 (Conv2D)          (None, 12, 12, 256)       295168    \n",
      "                                                                 \n",
      " max_pooling2d_11 (MaxPoolin  (None, 6, 6, 256)        0         \n",
      " g2D)                                                            \n",
      "                                                                 \n",
      " flatten_3 (Flatten)         (None, 9216)              0         \n",
      "                                                                 \n",
      " dense_6 (Dense)             (None, 64)                589888    \n",
      "                                                                 \n",
      " dense_7 (Dense)             (None, 33)                2145      \n",
      "                                                                 \n",
      "=================================================================\n",
      "Total params: 979,873\n",
      "Trainable params: 979,873\n",
      "Non-trainable params: 0\n",
      "_________________________________________________________________\n"
     ]
    }
   ],
   "source": [
    "# create the model using the Sequential class from the Keras library\n",
    "#####################################################################\n",
    "# the model architecture is:\n",
    "#conv_1 (Conv 2D) (None, 26, 26, 32) 320\n",
    "#conv_2 (Conv 2D) (None, 26, 26, 64) 18,496\n",
    "#max_pooling2D_18 (MaxPooling2D) (None, 13, 13, 64) 0\n",
    "#conv_3 (Conv 2D) (None, 13, 13, 128) 73,856\n",
    "#max_pooling2D_19 (MaxPooling2D) (None, 6, 6, 128) 0\n",
    "#conv_4 (Conv 2D) (None, 6, 6, 256) 295,168\n",
    "#max_pooling2D_20 (MaxPooling2D) (None, 3, 3, 256) 0\n",
    "#flatten (Flatten) (None, 2304) 0\n",
    "#FC_1 (Dense) (None, 64) 147,520\n",
    "#FC_2 (Dense) (None, 10) 650\n",
    "#####################################################################\n",
    "\n",
    "model = Sequential()\n",
    "model.add(Conv2D(32, kernel_size=(3, 3), activation=\"relu\", input_shape=(64, 64, 1)))\n",
    "model.add(Conv2D(64, kernel_size=(3, 3), activation=\"relu\"))\n",
    "model.add(MaxPooling2D(pool_size=(2, 2)))\n",
    "model.add(Conv2D(128, kernel_size=(3, 3), activation=\"relu\"))\n",
    "model.add(MaxPooling2D(pool_size=(2, 2)))\n",
    "model.add(Conv2D(256, kernel_size=(3, 3), activation=\"relu\"))\n",
    "model.add(MaxPooling2D(pool_size=(2, 2)))\n",
    "model.add(Flatten())\n",
    "model.add(Dense(64, activation=\"relu\"))\n",
    "model.add(Dense(33, activation=\"softmax\"))\n",
    "\n",
    "# show the model summary\n",
    "model.summary()"
   ]
  },
  {
   "cell_type": "code",
   "execution_count": null,
   "metadata": {},
   "outputs": [],
   "source": [
    "# now we will compile the model\n",
    "import tensorflow as tf\n",
    "model.compile(optimizer=tf.keras.optimizers.Adam( learning_rate=0.001), loss=\"sparse_categorical_crossentropy\", metrics=[\"accuracy\"])\n",
    "    \n",
    "# train the model\n",
    "model.fit(X_train, \n",
    "        y_train, \n",
    "        epochs=10, \n",
    "        validation_data=(X_test, y_test),\n",
    "        batch_size=64,)"
   ]
  },
  {
   "cell_type": "code",
   "execution_count": 14,
   "metadata": {},
   "outputs": [
    {
     "name": "stdout",
     "output_type": "stream",
     "text": [
      "161/161 [==============================] - 11s 66ms/step\n",
      "accuracy:  0.027972027972027972\n"
     ]
    }
   ],
   "source": [
    "# we will test the model on the test set\n",
    "y_pred = model.predict(X_test)\n",
    "y_pred = np.argmax(y_pred, axis=1)\n",
    "\n",
    "print(\"accuracy: \", np.sum(y_pred == y_test) / len(y_test))"
   ]
  },
  {
   "cell_type": "code",
   "execution_count": 30,
   "metadata": {},
   "outputs": [
    {
     "data": {
      "image/png": "[encoded data removed]",
      "text/plain": [
       "<Figure size 576x576 with 1 Axes>"
      ]
     },
     "metadata": {
      "needs_background": "light"
     },
     "output_type": "display_data"
    }
   ],
   "source": [
    "# test it on the first image in the test set and show the result with ploting the image\n",
    "plt.figure(figsize=(8, 8))\n",
    "plt.imshow(X_test[0], cmap=\"gray\")\n",
    "plt.title(\"predicted: \" + label_encoder.inverse_transform([y_pred[0]])[0])\n",
    "plt.show()\n"
   ]
  },
  {
   "cell_type": "markdown",
   "metadata": {},
   "source": [
    "# Loading model :"
   ]
  },
  {
   "cell_type": "code",
   "execution_count": 12,
   "metadata": {},
   "outputs": [],
   "source": [
    "tif_model = keras.models.load_model('model_tifinagh.h5')"
   ]
  },
  {
   "cell_type": "code",
   "execution_count": 20,
   "metadata": {},
   "outputs": [],
   "source": [
    "labels = []\n",
    "dataset_dir = r\"dataset\"\n",
    "# the firsl folder is \"AMHCD_64\", it contains folders of images with labels\n",
    "# let's read the images and labels (the labels are the names of the folders)\n",
    "images_dir = os.path.join(dataset_dir, \"AMHCD_64\")\n",
    "\n",
    "for folder in os.listdir(images_dir):\n",
    "    labels.append(folder)"
   ]
  },
  {
   "cell_type": "code",
   "execution_count": 19,
   "metadata": {},
   "outputs": [
    {
     "name": "stdout",
     "output_type": "stream",
     "text": [
      "1/1 [==============================] - 0s 60ms/step\n"
     ]
    },
    {
     "data": {
      "image/png": "[encoded data removed]",
      "text/plain": [
       "<Figure size 576x576 with 1 Axes>"
      ]
     },
     "metadata": {
      "needs_background": "light"
     },
     "output_type": "display_data"
    }
   ],
   "source": [
    "# reading the test image\n",
    "image = cv2.imread(r\"C:\\Users\\Asus\\Desktop\\Ultimate Projects\\Tfinagh Recognetion model\\Tifinagh-Recognition-Model\\test_model1.png\")\n",
    "\n",
    "# convert the images to grayscale\n",
    "image = cv2.cvtColor(image, cv2.COLOR_BGR2GRAY) \n",
    "\n",
    "# move the gaussian noises\n",
    "image = cv2.GaussianBlur(image, (5, 5), 0)\n",
    "\n",
    "\n",
    "# resize the images to 64x64\n",
    "image = cv2.resize(image, (64, 64)) \n",
    "\n",
    "# convert the images to numpy arrays\n",
    "image = np.array(image)\n",
    "\n",
    "# reshape the image to be 4D\n",
    "image = image.reshape(-1, 64, 64, 1)\n",
    "\n",
    "# predict the image\n",
    "y_pred = tif_model.predict(image)\n",
    "y_pred = np.argmax(y_pred, axis=1)\n",
    "\n",
    "# define labelencoder object to inverse the labels to their original values\n",
    "# import LabelEncoder() from sklearn library\n",
    "from sklearn.preprocessing import LabelEncoder\n",
    "label_encoder = LabelEncoder()\n",
    "\n",
    "# fit the label encoder to the labels\n",
    "label_encoder.fit_transform(labels)\n",
    "\n",
    "# show the predicted label with the image ( change the dimension of the image to 64x64 )\n",
    "plt.figure(figsize=(8, 8))\n",
    "plt.imshow(image.reshape(64, 64), cmap=\"gray\")\n",
    "plt.title(\"predicted: \" + label_encoder.inverse_transform(y_pred)[0])\n",
    "plt.show()"
   ]
  },
  {
   "cell_type": "code",
   "execution_count": null,
   "metadata": {},
   "outputs": [],
   "source": []
  }
 ],
 "metadata": {
  "kernelspec": {
   "display_name": "Python 3.9.4 ('finally-ucy7baQY')",
   "language": "python",
   "name": "python3"
  },
  "language_info": {
   "codemirror_mode": {
    "name": "ipython",
    "version": 3
   },
   "file_extension": ".py",
   "mimetype": "text/x-python",
   "name": "python",
   "nbconvert_exporter": "python",
   "pygments_lexer": "ipython3",
   "version": "3.9.4"
  },
  "orig_nbformat": 4,
  "vscode": {
   "interpreter": {
    "hash": "ac8b7ea878009caa083bcb35dee9fb1bfdec81c5bd3fa994d1e995a5998cef6b"
   }
  }
 },
 "nbformat": 4,
 "nbformat_minor": 2
}
