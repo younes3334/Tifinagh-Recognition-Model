{
 "cells": [
  {
   "cell_type": "code",
   "execution_count": 1,
   "metadata": {},
   "outputs": [],
   "source": [
    "# this notebook is used to create the building model area\n",
    "# Author: Younes IBNE-ETTALEB\n",
    "# we will create a Character recognition model to recognize the Tifinagh characters from the dataset\n",
    "# we will use the Keras library to create the model\n",
    "# we will use the Tensorflow library to train the model\n",
    "# we will use the OpenCV library to preprocess the images\n",
    "# we will use the Numpy library to manipulate the images\n",
    "# we will use the Matplotlib library to plot the images\n",
    "# we will use the Pandas library to manipulate the data\n",
    "\n",
    "# import the libraries\n",
    "import cv2\n",
    "import numpy as np\n",
    "import matplotlib.pyplot as plt\n",
    "import pandas as pd\n",
    "import keras\n",
    "from keras.models import Sequential\n",
    "from keras.layers import Dense, Conv2D, MaxPooling2D, Flatten, Dropout\n",
    "from keras.utils import to_categorical\n",
    "from keras.preprocessing.image import ImageDataGenerator\n",
    "from keras.callbacks import ModelCheckpoint\n",
    "from sklearn.model_selection import train_test_split\n",
    "from sklearn.metrics import confusion_matrix\n",
    "import itertools\n",
    "import os\n",
    "import glob"
   ]
  },
  {
   "cell_type": "code",
   "execution_count": null,
   "metadata": {},
   "outputs": [],
   "source": [
    "# first we will read the dataset with labels\n",
    "dataset_dir = \"\""
   ]
  }
 ],
 "metadata": {
  "kernelspec": {
   "display_name": "Python 3.9.4 ('finally-ucy7baQY')",
   "language": "python",
   "name": "python3"
  },
  "language_info": {
   "codemirror_mode": {
    "name": "ipython",
    "version": 3
   },
   "file_extension": ".py",
   "mimetype": "text/x-python",
   "name": "python",
   "nbconvert_exporter": "python",
   "pygments_lexer": "ipython3",
   "version": "3.9.4"
  },
  "orig_nbformat": 4,
  "vscode": {
   "interpreter": {
    "hash": "ac8b7ea878009caa083bcb35dee9fb1bfdec81c5bd3fa994d1e995a5998cef6b"
   }
  }
 },
 "nbformat": 4,
 "nbformat_minor": 2
}
