{
 "cells": [
  {
   "cell_type": "code",
   "execution_count": 2,
   "metadata": {},
   "outputs": [],
   "source": [
    "# this notebook is used to create the building model area\n",
    "# Author: Younes IBNE-ETTALEB\n",
    "# we will create a Character recognition model to recognize the Tifinagh characters from the dataset\n",
    "# we will use the Keras library to create the model\n",
    "# we will use the Tensorflow library to train the model\n",
    "# we will use the OpenCV library to preprocess the images\n",
    "# we will use the Numpy library to manipulate the images\n",
    "# we will use the Matplotlib library to plot the images\n",
    "# we will use the Pandas library to manipulate the data\n",
    "\n",
    "# import the libraries\n",
    "import cv2\n",
    "import numpy as np\n",
    "import matplotlib.pyplot as plt\n",
    "import pandas as pd\n",
    "import keras\n",
    "from keras.models import Sequential\n",
    "from keras.layers import Dense, Conv2D, MaxPooling2D, Flatten, Dropout\n",
    "from keras.utils import to_categorical\n",
    "from keras.preprocessing.image import ImageDataGenerator\n",
    "from keras.callbacks import ModelCheckpoint\n",
    "from sklearn.model_selection import train_test_split\n",
    "from sklearn.metrics import confusion_matrix\n",
    "import itertools\n",
    "import os\n",
    "import glob"
   ]
  },
  {
   "cell_type": "code",
   "execution_count": 19,
   "metadata": {},
   "outputs": [
    {
     "name": "stdout",
     "output_type": "stream",
     "text": [
      "reading images from folder:  ya\n",
      "reading images from folder:  yab\n",
      "reading images from folder:  yach\n",
      "number of images:  2340\n",
      "number of labels:  2340\n"
     ]
    }
   ],
   "source": [
    "# first we will read the dataset with labels\n",
    "dataset_dir = r\"dataset\"\n",
    "# the firsl folder is \"AMHCD_64\", it contains folders of images with labels\n",
    "# let's read the images and labels (the labels are the names of the folders)\n",
    "images_dir = os.path.join(dataset_dir, \"AMHCD_64\")\n",
    "images = []\n",
    "labels = []\n",
    "for folder in os.listdir(images_dir)[:3]:\n",
    "    print(\"reading images from folder: \", folder)\n",
    "    for file in os.listdir(os.path.join(images_dir, folder)):\n",
    "        image = cv2.imread(os.path.join(images_dir, folder, file))\n",
    "        images.append(image)\n",
    "        labels.append(folder)\n",
    "\n",
    "#show the number of images and labels\n",
    "print(\"number of images: \", len(images))\n",
    "print(\"number of labels: \", len(labels))\n"
   ]
  },
  {
   "cell_type": "code",
   "execution_count": 20,
   "metadata": {},
   "outputs": [],
   "source": [
    "# convert the images to grayscale\n",
    "images = [cv2.cvtColor(image, cv2.COLOR_BGR2GRAY) for image in images]\n",
    "\n",
    "# resize the images to 64x64\n",
    "images = [cv2.resize(image, (64, 64)) for image in images]\n",
    "\n",
    "# convert the images to numpy arrays\n",
    "images = np.array(images)\n",
    "\n",
    "# our labels are categorical, we need to convert them to numerical values\n",
    "# we will use the LabelEncoder class from the sklearn library\n",
    "from sklearn.preprocessing import LabelEncoder\n",
    "label_encoder = LabelEncoder()\n",
    "labels = label_encoder.fit_transform(labels)\n",
    "\n",
    "# split the dataset into training and testing sets\n",
    "X_train, X_test, y_train, y_test = train_test_split(images, labels, test_size=0.2, random_state=0)\n",
    "\n"
   ]
  },
  {
   "cell_type": "code",
   "execution_count": 26,
   "metadata": {},
   "outputs": [
    {
     "data": {
      "image/png": "[encoded data removed]",
      "text/plain": [
       "<Figure size 576x576 with 1 Axes>"
      ]
     },
     "metadata": {
      "needs_background": "light"
     },
     "output_type": "display_data"
    }
   ],
   "source": [
    "# show the first image in the training set with its label\n",
    "plt.figure(figsize=(8, 8))\n",
    "plt.imshow(X_train[0], cmap=\"gray\")\n",
    "plt.title(label_encoder.inverse_transform([y_train[0]]))\n",
    "plt.show()"
   ]
  },
  {
   "cell_type": "code",
   "execution_count": 27,
   "metadata": {},
   "outputs": [
    {
     "name": "stdout",
     "output_type": "stream",
     "text": [
      "Model: \"sequential_1\"\n",
      "_________________________________________________________________\n",
      " Layer (type)                Output Shape              Param #   \n",
      "=================================================================\n",
      " conv2d_3 (Conv2D)           (None, 62, 62, 32)        320       \n",
      "                                                                 \n",
      " conv2d_4 (Conv2D)           (None, 60, 60, 64)        18496     \n",
      "                                                                 \n",
      " max_pooling2d_3 (MaxPooling  (None, 30, 30, 64)       0         \n",
      " 2D)                                                             \n",
      "                                                                 \n",
      " conv2d_5 (Conv2D)           (None, 28, 28, 128)       73856     \n",
      "                                                                 \n",
      " max_pooling2d_4 (MaxPooling  (None, 14, 14, 128)      0         \n",
      " 2D)                                                             \n",
      "                                                                 \n",
      " conv2d_6 (Conv2D)           (None, 12, 12, 256)       295168    \n",
      "                                                                 \n",
      " max_pooling2d_5 (MaxPooling  (None, 6, 6, 256)        0         \n",
      " 2D)                                                             \n",
      "                                                                 \n",
      " flatten_1 (Flatten)         (None, 9216)              0         \n",
      "                                                                 \n",
      " dense_8 (Dense)             (None, 64)                589888    \n",
      "                                                                 \n",
      " dense_9 (Dense)             (None, 10)                650       \n",
      "                                                                 \n",
      "=================================================================\n",
      "Total params: 978,378\n",
      "Trainable params: 978,378\n",
      "Non-trainable params: 0\n",
      "_________________________________________________________________\n"
     ]
    }
   ],
   "source": [
    "# create the model using the Sequential class from the Keras library\n",
    "#####################################################################\n",
    "# the model architecture is:\n",
    "#conv_1 (Conv 2D) (None, 26, 26, 32) 320\n",
    "#conv_2 (Conv 2D) (None, 26, 26, 64) 18,496\n",
    "#max_pooling2D_18 (MaxPooling2D) (None, 13, 13, 64) 0\n",
    "#conv_3 (Conv 2D) (None, 13, 13, 128) 73,856\n",
    "#max_pooling2D_19 (MaxPooling2D) (None, 6, 6, 128) 0\n",
    "#conv_4 (Conv 2D) (None, 6, 6, 256) 295,168\n",
    "#max_pooling2D_20 (MaxPooling2D) (None, 3, 3, 256) 0\n",
    "#flatten (Flatten) (None, 2304) 0\n",
    "#FC_1 (Dense) (None, 64) 147,520\n",
    "#FC_2 (Dense) (None, 10) 650\n",
    "#####################################################################\n",
    "\n",
    "model = Sequential()\n",
    "model.add(Conv2D(32, kernel_size=(3, 3), activation=\"relu\", input_shape=(64, 64, 1)))\n",
    "model.add(Conv2D(64, kernel_size=(3, 3), activation=\"relu\"))\n",
    "model.add(MaxPooling2D(pool_size=(2, 2)))\n",
    "model.add(Conv2D(128, kernel_size=(3, 3), activation=\"relu\"))\n",
    "model.add(MaxPooling2D(pool_size=(2, 2)))\n",
    "model.add(Conv2D(256, kernel_size=(3, 3), activation=\"relu\"))\n",
    "model.add(MaxPooling2D(pool_size=(2, 2)))\n",
    "model.add(Flatten())\n",
    "model.add(Dense(64, activation=\"relu\"))\n",
    "model.add(Dense(10, activation=\"softmax\"))\n",
    "\n",
    "# show the model summary\n",
    "model.summary()"
   ]
  },
  {
   "cell_type": "code",
   "execution_count": 28,
   "metadata": {},
   "outputs": [
    {
     "name": "stdout",
     "output_type": "stream",
     "text": [
      "Epoch 1/10\n",
      "59/59 [==============================] - 23s 373ms/step - loss: 5.0198 - accuracy: 0.6779 - val_loss: 0.0275 - val_accuracy: 0.9915\n",
      "Epoch 2/10\n",
      "59/59 [==============================] - 21s 362ms/step - loss: 0.0321 - accuracy: 0.9893 - val_loss: 0.0442 - val_accuracy: 0.9893\n",
      "Epoch 3/10\n",
      "59/59 [==============================] - 22s 374ms/step - loss: 0.0184 - accuracy: 0.9925 - val_loss: 0.0312 - val_accuracy: 0.9872\n",
      "Epoch 4/10\n",
      "59/59 [==============================] - 21s 364ms/step - loss: 0.0137 - accuracy: 0.9952 - val_loss: 0.0109 - val_accuracy: 0.9957\n",
      "Epoch 5/10\n",
      "59/59 [==============================] - 21s 363ms/step - loss: 0.0089 - accuracy: 0.9968 - val_loss: 0.0104 - val_accuracy: 0.9915\n",
      "Epoch 6/10\n",
      "59/59 [==============================] - 22s 380ms/step - loss: 0.0052 - accuracy: 0.9984 - val_loss: 0.0112 - val_accuracy: 0.9957\n",
      "Epoch 7/10\n",
      "59/59 [==============================] - 23s 389ms/step - loss: 0.0349 - accuracy: 0.9915 - val_loss: 0.0577 - val_accuracy: 0.9872\n",
      "Epoch 8/10\n",
      "59/59 [==============================] - 23s 389ms/step - loss: 0.0028 - accuracy: 0.9995 - val_loss: 0.0157 - val_accuracy: 0.9957\n",
      "Epoch 9/10\n",
      "59/59 [==============================] - 23s 386ms/step - loss: 0.0024 - accuracy: 0.9995 - val_loss: 0.0138 - val_accuracy: 0.9957\n",
      "Epoch 10/10\n",
      "59/59 [==============================] - 23s 386ms/step - loss: 0.0017 - accuracy: 1.0000 - val_loss: 0.0054 - val_accuracy: 0.9957\n"
     ]
    },
    {
     "data": {
      "text/plain": [
       "<keras.callbacks.History at 0x27b5d0a8d60>"
      ]
     },
     "execution_count": 28,
     "metadata": {},
     "output_type": "execute_result"
    }
   ],
   "source": [
    "# now we will compile the model\n",
    "model.compile(optimizer=\"adam\", loss=\"sparse_categorical_crossentropy\", metrics=[\"accuracy\"])\n",
    "\n",
    "# train the model\n",
    "model.fit(X_train, y_train, epochs=10, validation_data=(X_test, y_test))"
   ]
  },
  {
   "cell_type": "code",
   "execution_count": 29,
   "metadata": {},
   "outputs": [
    {
     "name": "stdout",
     "output_type": "stream",
     "text": [
      "15/15 [==============================] - 2s 94ms/step\n",
      "accuracy:  0.9957264957264957\n"
     ]
    }
   ],
   "source": [
    "# we will test the model on the test set\n",
    "y_pred = model.predict(X_test)\n",
    "y_pred = np.argmax(y_pred, axis=1)\n",
    "\n",
    "print(\"accuracy: \", np.sum(y_pred == y_test) / len(y_test))"
   ]
  },
  {
   "cell_type": "code",
   "execution_count": 30,
   "metadata": {},
   "outputs": [
    {
     "data": {
      "image/png": "[encoded data removed]",
      "text/plain": [
       "<Figure size 576x576 with 1 Axes>"
      ]
     },
     "metadata": {
      "needs_background": "light"
     },
     "output_type": "display_data"
    }
   ],
   "source": [
    "# test it on the first image in the test set and show the result with ploting the image\n",
    "plt.figure(figsize=(8, 8))\n",
    "plt.imshow(X_test[0], cmap=\"gray\")\n",
    "plt.title(\"predicted: \" + label_encoder.inverse_transform([y_pred[0]])[0])\n",
    "plt.show()\n"
   ]
  }
 ],
 "metadata": {
  "kernelspec": {
   "display_name": "Python 3.9.4 ('finally-ucy7baQY')",
   "language": "python",
   "name": "python3"
  },
  "language_info": {
   "codemirror_mode": {
    "name": "ipython",
    "version": 3
   },
   "file_extension": ".py",
   "mimetype": "text/x-python",
   "name": "python",
   "nbconvert_exporter": "python",
   "pygments_lexer": "ipython3",
   "version": "3.9.4"
  },
  "orig_nbformat": 4,
  "vscode": {
   "interpreter": {
    "hash": "ac8b7ea878009caa083bcb35dee9fb1bfdec81c5bd3fa994d1e995a5998cef6b"
   }
  }
 },
 "nbformat": 4,
 "nbformat_minor": 2
}
